{
 "cells": [
  {
   "cell_type": "markdown",
   "source": [
    "Importamos la clase ImageFeaturesExtraction"
   ],
   "metadata": {
    "collapsed": false
   },
   "id": "1353b99c9a4bcfdd"
  },
  {
   "cell_type": "code",
   "execution_count": 11,
   "outputs": [
    {
     "name": "stdout",
     "output_type": "stream",
     "text": [
      "[{'image_url': 'https://cloudfront-eu-central-1.images.arcpublishing.com/prisa/2HNUTOK2HNEPFDTR5WYMIJDFOY.jpg', 'detections': [('1 persona', 0.9969202), ('47: taza', 0.99400324), ('1 persona', 0.9872723), ('62: silla', 0.9762356), ('44: botella', 0.9664547), ('44: botella', 0.8505604), ('76: teclado', 0.8439268), ('1 persona', 0.81844544), ('73: portátil', 0.7570158), ('62: silla', 0.7482912), ('Mesa de comedor', 0.71215147), ('44: botella', 0.65817744), ('76: teclado', 0.6301845), ('62: silla', 0.5747696), ('62: silla', 0.56445944)]}, {'image_url': 'https://cloudfront-eu-central-1.images.arcpublishing.com/prisa/JPPHJM6AWJDHJGO5DEJRHQLNXM.jpg', 'detections': [('73: portátil', 0.9989899), ('1 persona', 0.99642926), ('44: botella', 0.99126947), ('Mesa de comedor', 0.968309), ('62: silla', 0.9303603), ('62: silla', 0.89775985), ('Planta en maceta', 0.88069636)]}]\n"
     ]
    }
   ],
   "source": [
    "from torchvision.models.detection import fasterrcnn_resnet50_fpn, FasterRCNN_ResNet50_FPN_Weights\n",
    "import torchvision.transforms as T\n",
    "import requests\n",
    "import torch\n",
    "from io import BytesIO\n",
    "from PIL import Image\n",
    "from typing import List\n",
    "from translate import Translator\n",
    "import cairosvg\n",
    "import json\n",
    "import pymongo\n",
    "from pymongo import MongoClient\n",
    "\n",
    "class ImageFeaturesExtraction:\n",
    "    def __init__(self, threshold = 0.5):\n",
    "        self.model = fasterrcnn_resnet50_fpn(weights=FasterRCNN_ResNet50_FPN_Weights.DEFAULT)\n",
    "        self.model.eval()\n",
    "        self.transform = T.Compose([T.ToTensor()])\n",
    "        self.threshold = threshold\n",
    "        self.labels_url = 'https://raw.githubusercontent.com/nightrome/cocostuff/master/labels.txt'\n",
    "        self.coco_labels = self.load_coco_labels()\n",
    "        self.translator = Translator(to_lang=\"es\")\n",
    "\n",
    "    def load_coco_labels(self):\n",
    "        response = requests.get(self.labels_url)\n",
    "        return response.text.splitlines()\n",
    "\n",
    "    def translate_labels(self, labels):\n",
    "        translations = [self.translator.translate(label) for label in labels]\n",
    "        return [translation for translation in translations]\n",
    "\n",
    "    def convert_svg_to_format(self, svg_data, output_format='png'):\n",
    "        if output_format not in ['png', 'jpeg', 'pdf', 'ps', 'eps', 'svg']:\n",
    "            raise ValueError(\"El formato de salida debe ser uno de: png, jpeg, pdf, ps, eps, svg\")\n",
    "\n",
    "        converted_data = cairosvg.svg2bytestring(bytestring=svg_data, output_format=output_format)\n",
    "        return Image.open(BytesIO(converted_data))\n",
    "\n",
    "    def analyze_news_images(self, image_urls: List[str], output_format='png'):\n",
    "        results = []\n",
    "        for img_url in image_urls:\n",
    "            response = requests.get(img_url)\n",
    "\n",
    "            # Comprobar si la imagen es SVG\n",
    "            if 'image/svg+xml' in response.headers.get('content-type', ''):\n",
    "                svg_data = response.content\n",
    "                image = self.convert_svg_to_format(svg_data, output_format)\n",
    "            else:\n",
    "                image_extension = response.headers.get('content-type').split('/')[1]\n",
    "                image = Image.open(BytesIO(response.content))\n",
    "\n",
    "            # El resto del código sigue igual para las imágenes rasterizadas\n",
    "            image_tensor = self.transform(image).unsqueeze(0)\n",
    "\n",
    "            with torch.no_grad():\n",
    "                prediction = self.model(image_tensor)\n",
    "\n",
    "            boxes = prediction[0]['boxes']\n",
    "            scores = prediction[0]['scores']\n",
    "            labels = prediction[0]['labels']\n",
    "\n",
    "            filtered_boxes = boxes[scores > self.threshold]\n",
    "            filtered_scores = scores[scores > self.threshold]\n",
    "            filtered_labels = labels[scores > self.threshold]\n",
    "\n",
    "            translated_labels = self.translate_labels([self.coco_labels[label.item()] for label in filtered_labels])\n",
    "\n",
    "            results.append({\n",
    "                'image_url': img_url,\n",
    "                'detections': list(zip(translated_labels, filtered_scores.numpy()))\n",
    "            })\n",
    "\n",
    "        return results\n",
    "\n",
    "    def save_results_to_file(self, results, output_file='results.json'):\n",
    "        with open(output_file, 'w') as file:\n",
    "            json.dump(results, file, indent=4)\n",
    "\n",
    "imgs = [\"https://cloudfront-eu-central-1.images.arcpublishing.com/prisa/2HNUTOK2HNEPFDTR5WYMIJDFOY.jpg\", \"https://cloudfront-eu-central-1.images.arcpublishing.com/prisa/JPPHJM6AWJDHJGO5DEJRHQLNXM.jpg\"]\n",
    "\n",
    "\n",
    "\n",
    "image_features_extraction = ImageFeaturesExtraction()\n",
    "image_features_extraction = image_features_extraction.analyze_news_images(imgs)\n",
    "print(image_features_extraction)\n"
   ],
   "metadata": {
    "collapsed": false,
    "ExecuteTime": {
     "end_time": "2023-09-27T17:16:53.256912207Z",
     "start_time": "2023-09-27T17:16:31.416692003Z"
    }
   },
   "id": "initial_id"
  },
  {
   "cell_type": "code",
   "execution_count": null,
   "outputs": [],
   "source": [],
   "metadata": {
    "collapsed": false
   },
   "id": "d42165572e4b67f6"
  }
 ],
 "metadata": {
  "kernelspec": {
   "display_name": "Python 3",
   "language": "python",
   "name": "python3"
  },
  "language_info": {
   "codemirror_mode": {
    "name": "ipython",
    "version": 2
   },
   "file_extension": ".py",
   "mimetype": "text/x-python",
   "name": "python",
   "nbconvert_exporter": "python",
   "pygments_lexer": "ipython2",
   "version": "2.7.6"
  }
 },
 "nbformat": 4,
 "nbformat_minor": 5
}
